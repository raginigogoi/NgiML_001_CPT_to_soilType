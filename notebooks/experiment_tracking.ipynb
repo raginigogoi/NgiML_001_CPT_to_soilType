{
 "cells": [
  {
   "cell_type": "markdown",
   "metadata": {},
   "source": [
    "## Tracking experiments\n",
    "Tracking experiments is a crucial part of the machine learning workflow. It allows you to keep track of the experiments you have run, the results you have obtained, and the models you have trained. In this notebook, we will use the `mlflow` library to track our experiments."
   ]
  },
  {
   "cell_type": "code",
   "execution_count": null,
   "metadata": {},
   "outputs": [],
   "source": []
  },
  {
   "cell_type": "markdown",
   "metadata": {},
   "source": [
    "## Tracking models"
   ]
  },
  {
   "cell_type": "code",
   "execution_count": null,
   "metadata": {},
   "outputs": [],
   "source": []
  },
  {
   "cell_type": "markdown",
   "metadata": {},
   "source": [
    "## Feature importance - Permutation Feature Importance (PFI)\n",
    "Permutation Feature Importance (PFI) is a model-agnostic method to evaluate the importance of features in a machine learning model. The idea is to shuffle the values of a feature and measure the impact on the model's performance. If the performance decreases significantly, it means that the feature is important for the model.\n",
    "\n",
    "Don't use the tree-based feature importance method, it is not reliable. "
   ]
  }
 ],
 "metadata": {
  "language_info": {
   "name": "python"
  }
 },
 "nbformat": 4,
 "nbformat_minor": 2
}
